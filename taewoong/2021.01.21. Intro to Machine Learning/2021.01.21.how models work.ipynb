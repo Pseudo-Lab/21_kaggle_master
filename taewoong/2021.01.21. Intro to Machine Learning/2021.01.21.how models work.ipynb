{
 "cells": [
  {
   "cell_type": "markdown",
   "metadata": {},
   "source": [
    "# 파일 밖으로 빼내기"
   ]
  },
  {
   "cell_type": "code",
   "execution_count": 13,
   "metadata": {},
   "outputs": [],
   "source": [
    "    import os\n",
    "    os.chdir(r'/kaggle/')"
   ]
  },
  {
   "cell_type": "code",
   "execution_count": 15,
   "metadata": {},
   "outputs": [
    {
     "name": "stdout",
     "output_type": "stream",
     "text": [
      "./input/\n",
      "./input/home-data-for-ml-course/\n",
      "./input/home-data-for-ml-course/sample_submission.csv\n",
      "./input/home-data-for-ml-course/sample_submission.csv.gz\n",
      "./input/home-data-for-ml-course/train.csv.gz\n",
      "./input/home-data-for-ml-course/data_description.txt\n",
      "./input/home-data-for-ml-course/test.csv.gz\n",
      "./input/home-data-for-ml-course/train.csv\n",
      "./input/home-data-for-ml-course/test.csv\n",
      "./input/mobile-price-classification/\n",
      "./input/mobile-price-classification/train.csv\n",
      "./input/mobile-price-classification/test.csv\n",
      "./input/melbourne-housing-snapshot/\n",
      "./input/melbourne-housing-snapshot/melb_data.csv\n"
     ]
    }
   ],
   "source": [
    "! tar -cvf input.zip ./input"
   ]
  },
  {
   "cell_type": "markdown",
   "metadata": {},
   "source": [
    "# Introduction\n",
    "We'll start with an overview of how machine learning models work and how they are used. This may feel basic if you've done statistical modeling or machine learning before. Don't worry, we will progress to building powerful models soon.\n",
    "\n",
    "This micro-course will have you build models as you go through following scenario:\n",
    "\n",
    "Your cousin has made millions of dollars speculating on real estate. He's offered to become business partners with you because of your interest in data science. He'll supply the money, and you'll supply models that predict how much various houses are worth.\n",
    "\n",
    "You ask your cousin how he's predicted real estate values in the past. and he says it is just intuition. But more questioning reveals that he's identified price patterns from houses he has seen in the past, and he uses those patterns to make predictions for new houses he is considering.\n",
    "\n",
    "Machine learning works the same way.  We'll start with a model called the Decision Tree. There are fancier models that give more accurate predictions. But decision trees are easy to understand, and they are the basic building block for some of the best models in data science.\n",
    "\n",
    "For simplicity, we'll start with the simplest possible decision tree. \n",
    "\n",
    "![First Decision Trees](http://i.imgur.com/7tsb5b1.png)\n",
    "\n",
    "It divides houses into only two categories. The predicted price for any house under consideration is the historical average price of houses in the same category.\n",
    "\n",
    "We use data to decide how to break the houses into two groups,  and then again to determine the predicted price in each group.  This step of capturing patterns from data is called **fitting** or **training** the model. The data used to **fit** the model is called the **training data**.  \n",
    "\n",
    "The details of how the model is fit (e.g. how to split up the data) is complex enough that we will save it for later. After the model has been fit, you can apply it to new data to **predict** prices of additional homes.\n",
    "\n",
    "---\n",
    "# Improving the Decision Tree\n",
    "Which of the following two decisions trees is more likely to result from fitting the real estate training data?\n",
    "\n",
    "![First Decision Trees](http://i.imgur.com/prAjgku.png)\n",
    "\n",
    "\n",
    "The decision tree on the left (Decision Tree 1) probably makes more sense, because it captures the reality that houses with more bedrooms tend to sell at higher prices than houses with fewer bedrooms.  The biggest shortcoming of this model is that it doesn't capture most factors affecting home price, like number of bathrooms, lot size, location, etc. \n",
    "\n",
    "You can capture more factors using a tree that has more \"splits.\" These are called \"deeper\" trees. A decision tree that also considers the total size of each house's lot might look like this: \n",
    "![Depth 2 Tree](http://i.imgur.com/R3ywQsR.png)\n",
    "\n",
    "You predict the price of any house by tracing through the decision tree, always picking the path corresponding to that house's characteristics. The predicted price for the house is at the bottom of the tree.  The point at the bottom where we make a prediction is called a **leaf.**   \n",
    "\n",
    "The splits and values at the leaves will be determined by the data, so it's time for you to check out the data you will be working with.\n",
    "\n",
    "# Continue\n",
    "Let's get more specific. It's time to **[Examine Your Data](https://www.kaggle.com/dansbecker/basic-data-exploration)**.\n"
   ]
  },
  {
   "cell_type": "markdown",
   "metadata": {},
   "source": [
    "---\n",
    "\n",
    "*Interested in taking a deeper dive in the Intro to ML course content? Join Kaggle Data Scientist Jesse Mostipak in a series of 8 short and engaging supplemental videos, where each video corresponds to a lesson on Kaggle. To start watching, [click here](https://www.youtube.com/playlist?list=PLqFaTIg4myu9-T-fat2zjC5HmTpSybNfa).*\n",
    "\n",
    "\n",
    "*Have questions or comments? Visit the [Learn Discussion forum](https://www.kaggle.com/learn-forum/161285) to chat with other Learners.*"
   ]
  }
 ],
 "metadata": {
  "kernelspec": {
   "display_name": "Python 3",
   "language": "python",
   "name": "python3"
  },
  "language_info": {
   "codemirror_mode": {
    "name": "ipython",
    "version": 3
   },
   "file_extension": ".py",
   "mimetype": "text/x-python",
   "name": "python",
   "nbconvert_exporter": "python",
   "pygments_lexer": "ipython3",
   "version": "3.8.5"
  },
  "toc": {
   "base_numbering": 1,
   "nav_menu": {},
   "number_sections": true,
   "sideBar": true,
   "skip_h1_title": false,
   "title_cell": "Table of Contents",
   "title_sidebar": "Contents",
   "toc_cell": false,
   "toc_position": {},
   "toc_section_display": true,
   "toc_window_display": false
  },
  "varInspector": {
   "cols": {
    "lenName": 16,
    "lenType": 16,
    "lenVar": 40
   },
   "kernels_config": {
    "python": {
     "delete_cmd_postfix": "",
     "delete_cmd_prefix": "del ",
     "library": "var_list.py",
     "varRefreshCmd": "print(var_dic_list())"
    },
    "r": {
     "delete_cmd_postfix": ") ",
     "delete_cmd_prefix": "rm(",
     "library": "var_list.r",
     "varRefreshCmd": "cat(var_dic_list()) "
    }
   },
   "types_to_exclude": [
    "module",
    "function",
    "builtin_function_or_method",
    "instance",
    "_Feature"
   ],
   "window_display": false
  }
 },
 "nbformat": 4,
 "nbformat_minor": 4
}
